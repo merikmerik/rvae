{
 "cells": [
  {
   "cell_type": "code",
   "execution_count": 1,
   "id": "b99b9f90-2087-40fc-a4ea-b083cda9cb0f",
   "metadata": {
    "tags": []
   },
   "outputs": [],
   "source": [
    "# executing all python files\n",
    "\n",
    "%run data_processor.py\n",
    "%run r_models.py\n",
    "%run hidden_layers.py\n",
    "%run rep_trick.py\n",
    "%run enc_dec.py\n",
    "%run r_vae.py\n",
    "%run train_VAE.py"
   ]
  }
 ],
 "metadata": {
  "kernelspec": {
   "display_name": "Python 3 (ipykernel)",
   "language": "python",
   "name": "python3"
  },
  "language_info": {
   "codemirror_mode": {
    "name": "ipython",
    "version": 3
   },
   "file_extension": ".py",
   "mimetype": "text/x-python",
   "name": "python",
   "nbconvert_exporter": "python",
   "pygments_lexer": "ipython3",
   "version": "3.11.5"
  }
 },
 "nbformat": 4,
 "nbformat_minor": 5
}
